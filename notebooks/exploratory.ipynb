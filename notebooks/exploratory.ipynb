{
 "cells": [
  {
   "cell_type": "code",
   "execution_count": null,
   "id": "830760f5",
   "metadata": {
    "vscode": {
     "languageId": "plaintext"
    }
   },
   "outputs": [],
   "source": [
    "from transformers import pipeline\n",
    "ner_pipe = pipeline(\"ner\", model=\"hsc748NLP/GujiRoBERTa_jian_fan\", tokenizer=\"hsc748NLP/GujiRoBERTa_jian_fan\")\n",
    "ner_pipe(\"孫子曰：兵者，詭道也。\")"
   ]
  }
 ],
 "metadata": {
  "language_info": {
   "name": "python"
  }
 },
 "nbformat": 4,
 "nbformat_minor": 5
}
